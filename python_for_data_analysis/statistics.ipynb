{
 "cells": [
  {
   "cell_type": "code",
   "execution_count": 1,
   "metadata": {},
   "outputs": [],
   "source": [
    "from scipy.stats import stats\n",
    "import numpy as np\n",
    "import seaborn as sns\n",
    "import matplotlib.pyplot as plt"
   ]
  },
  {
   "cell_type": "markdown",
   "metadata": {},
   "source": [
    "# Discrete uniform distribution"
   ]
  },
  {
   "cell_type": "code",
   "execution_count": 16,
   "metadata": {},
   "outputs": [
    {
     "data": {
      "text/plain": [
       "0.16666666666666666"
      ]
     },
     "execution_count": 16,
     "metadata": {},
     "output_type": "execute_result"
    }
   ],
   "source": [
    "1/6"
   ]
  },
  {
   "cell_type": "code",
   "execution_count": 26,
   "metadata": {},
   "outputs": [
    {
     "data": {
      "image/png": "[encoded data removed]",
      "text/plain": [
       "<Figure size 432x288 with 1 Axes>"
      ]
     },
     "metadata": {
      "needs_background": "light"
     },
     "output_type": "display_data"
    }
   ],
   "source": [
    "roll_options = [1,2,3,4,5,6]\n",
    "tprob = 1\n",
    "prob_roll = tprob/len(roll_options)\n",
    "fig = sns.rugplot(roll_options,height=0.16,c='indianred').set_title('Probabillity mass function for dice roll')\n",
    "#fig.set_y(ylim=(0,0.4))\n",
    "#plt.ylim((0,0.1))"
   ]
  },
  {
   "cell_type": "code",
   "execution_count": 27,
   "metadata": {},
   "outputs": [],
   "source": [
    "from scipy.stats import randint #permutação com repetição:"
   ]
  },
  {
   "cell_type": "code",
   "execution_count": 30,
   "metadata": {},
   "outputs": [
    {
     "name": "stdout",
     "output_type": "stream",
     "text": [
      "mean = 3.5, variance = 2.9166666666666665\n"
     ]
    }
   ],
   "source": [
    "low = 1\n",
    "high = 7\n",
    "mean,var = randint.stats(low,high)\n",
    "print(f\"mean = {mean}, variance = {var}\")"
   ]
  },
  {
   "cell_type": "code",
   "execution_count": 31,
   "metadata": {},
   "outputs": [
    {
     "data": {
      "text/plain": [
       "<BarContainer object of 6 artists>"
      ]
     },
     "execution_count": 31,
     "metadata": {},
     "output_type": "execute_result"
    },
    {
     "data": {
      "image/png": "[encoded data removed]",
      "text/plain": [
       "<Figure size 432x288 with 1 Axes>"
      ]
     },
     "metadata": {
      "needs_background": "light"
     },
     "output_type": "display_data"
    }
   ],
   "source": [
    "plt.bar(roll_options,randint.pmf(roll_options,low,high))"
   ]
  },
  {
   "cell_type": "markdown",
   "metadata": {},
   "source": [
    "# checking German Tank Problem"
   ]
  },
  {
   "cell_type": "code",
   "execution_count": 32,
   "metadata": {},
   "outputs": [],
   "source": [
    "tanks = list(range(50))"
   ]
  },
  {
   "cell_type": "code",
   "execution_count": 39,
   "metadata": {},
   "outputs": [],
   "source": [
    "estimates = []\n",
    "for _ in range(100):\n",
    "    choices = np.random.choice(tanks,size=5,replace=False)\n",
    "    estimate = max(choices) + (5/max(choices))-1\n",
    "    estimates.append(estimate)"
   ]
  },
  {
   "cell_type": "code",
   "execution_count": 37,
   "metadata": {},
   "outputs": [],
   "source": [
    "import seaborn as sns"
   ]
  },
  {
   "cell_type": "code",
   "execution_count": 40,
   "metadata": {},
   "outputs": [
    {
     "data": {
      "text/plain": [
       "<AxesSubplot: ylabel='Count'>"
      ]
     },
     "execution_count": 40,
     "metadata": {},
     "output_type": "execute_result"
    },
    {
     "data": {
      "image/png": "[encoded data removed]",
      "text/plain": [
       "<Figure size 432x288 with 1 Axes>"
      ]
     },
     "metadata": {
      "needs_background": "light"
     },
     "output_type": "display_data"
    }
   ],
   "source": [
    "sns.histplot(estimates)"
   ]
  },
  {
   "cell_type": "markdown",
   "metadata": {},
   "source": [
    "# Continuos uniform distribution"
   ]
  },
  {
   "cell_type": "code",
   "execution_count": null,
   "metadata": {},
   "outputs": [],
   "source": [
    "f(x) = 1/(b-a)\n",
    "b = max\n",
    "a = min\n",
    "\n",
    "mean = (b+a)/2\n",
    "var = (b-a)²/12\n"
   ]
  },
  {
   "cell_type": "code",
   "execution_count": 4,
   "metadata": {},
   "outputs": [],
   "source": [
    "from scipy.stats import uniform\n",
    "import numpy as np\n",
    "import matplotlib.pyplot as plt"
   ]
  },
  {
   "cell_type": "code",
   "execution_count": 5,
   "metadata": {},
   "outputs": [],
   "source": [
    "A = 0\n",
    "B = 5"
   ]
  },
  {
   "cell_type": "code",
   "execution_count": 6,
   "metadata": {},
   "outputs": [
    {
     "data": {
      "text/plain": [
       "[<matplotlib.lines.Line2D at 0x7f9767621d90>]"
      ]
     },
     "execution_count": 6,
     "metadata": {},
     "output_type": "execute_result"
    },
    {
     "data": {
      "image/png": "[encoded data removed]",
      "text/plain": [
       "<Figure size 432x288 with 1 Axes>"
      ]
     },
     "metadata": {
      "needs_background": "light"
     },
     "output_type": "display_data"
    }
   ],
   "source": [
    "x = np.linspace(A,B,100)\n",
    "rv = uniform(loc=A,scale=B)\n",
    "plt.plot(x,rv.pdf(x))"
   ]
  },
  {
   "cell_type": "markdown",
   "metadata": {},
   "source": [
    "# Binomial distribution"
   ]
  },
  {
   "cell_type": "markdown",
   "metadata": {},
   "source": [
    "Conditions:\n",
    "1) The process consists of a sequence of n trials\n",
    "2) Only two exclusive outcomes are possible for each trial(a success or failure)\n",
    "3) If the probability of a success is 'p' then the probability of failure is q= 1-p\n",
    "4) Trials are independent."
   ]
  },
  {
   "cell_type": "markdown",
   "metadata": {},
   "source": [
    "P(x=k) = C(n,k)p^k(1-p)^(n-k)\n",
    "\n",
    "where n is number of trials\n",
    "\n",
    "p is probability of a success\n",
    "\n",
    "k is the number of successes\n",
    "\n",
    "C(n,k) = n!/k!(n-k)!"
   ]
  },
  {
   "cell_type": "code",
   "execution_count": 18,
   "metadata": {},
   "outputs": [],
   "source": [
    "p_A = .72\n",
    "n_A = 11\n",
    "k = 6\n",
    "import scipy.special as sc\n",
    "comb_A = sc.comb(n_A,k)"
   ]
  },
  {
   "cell_type": "code",
   "execution_count": 19,
   "metadata": {},
   "outputs": [
    {
     "data": {
      "text/plain": [
       "462.0"
      ]
     },
     "execution_count": 19,
     "metadata": {},
     "output_type": "execute_result"
    }
   ],
   "source": [
    "comb_A"
   ]
  },
  {
   "cell_type": "code",
   "execution_count": 20,
   "metadata": {},
   "outputs": [],
   "source": [
    "answer_A = comb_A * (p_A**k)*((1-p_A)**(n_A-k))"
   ]
  },
  {
   "cell_type": "code",
   "execution_count": 21,
   "metadata": {},
   "outputs": [
    {
     "data": {
      "text/plain": [
       "0.1107712638528535"
      ]
     },
     "execution_count": 21,
     "metadata": {},
     "output_type": "execute_result"
    }
   ],
   "source": [
    "answer_A"
   ]
  },
  {
   "cell_type": "code",
   "execution_count": 24,
   "metadata": {},
   "outputs": [],
   "source": [
    "n_B = 15\n",
    "p_B = .48\n",
    "comb_B = sc.comb(n_B,k)\n",
    "answer_B = comb_B * (p_B**k)*((1-p_B)**(n_B-k))"
   ]
  },
  {
   "cell_type": "code",
   "execution_count": 25,
   "metadata": {},
   "outputs": [
    {
     "data": {
      "text/plain": [
       "0.17016945140801826"
      ]
     },
     "execution_count": 25,
     "metadata": {},
     "output_type": "execute_result"
    }
   ],
   "source": [
    "answer_B"
   ]
  },
  {
   "cell_type": "code",
   "execution_count": 26,
   "metadata": {},
   "outputs": [],
   "source": [
    "k = 9"
   ]
  },
  {
   "cell_type": "code",
   "execution_count": 29,
   "metadata": {},
   "outputs": [],
   "source": [
    "comb_A = sc.comb(n_A,k)\n",
    "answer_A = comb_A * (p_A**k)*((1-p_A)**(n_A-k))\n",
    "comb_B = sc.comb(n_B,k)\n",
    "answer_B = comb_B * (p_B**k)*((1-p_B)**(n_B-k))"
   ]
  },
  {
   "cell_type": "code",
   "execution_count": 30,
   "metadata": {},
   "outputs": [
    {
     "data": {
      "text/plain": [
       "(0.22421838497495536, 0.13384288212701662)"
      ]
     },
     "execution_count": 30,
     "metadata": {},
     "output_type": "execute_result"
    }
   ],
   "source": [
    "answer_A,answer_B"
   ]
  },
  {
   "cell_type": "markdown",
   "metadata": {},
   "source": [
    "## para a probabilidade de ao menos k:"
   ]
  },
  {
   "cell_type": "code",
   "execution_count": 31,
   "metadata": {},
   "outputs": [],
   "source": [
    "k = 9\n",
    "answer_A = 0\n",
    "for k in range(9,n_A):\n",
    "    comb_A = sc.comb(n_A,k)\n",
    "    answer_A += comb_A * (p_A**k)*((1-p_A)**(n_A-k))"
   ]
  },
  {
   "cell_type": "code",
   "execution_count": 32,
   "metadata": {},
   "outputs": [
    {
     "data": {
      "text/plain": [
       "0.33953069724778956"
      ]
     },
     "execution_count": 32,
     "metadata": {},
     "output_type": "execute_result"
    }
   ],
   "source": [
    "answer_A"
   ]
  },
  {
   "cell_type": "code",
   "execution_count": 33,
   "metadata": {},
   "outputs": [],
   "source": [
    "k = 9\n",
    "answer_B = 0\n",
    "for k in range(9,n_B):\n",
    "    comb_B = sc.comb(n_B,k)\n",
    "    answer_B += comb_B * (p_B**k)*((1-p_B)**(n_B-k))"
   ]
  },
  {
   "cell_type": "code",
   "execution_count": 34,
   "metadata": {},
   "outputs": [
    {
     "data": {
      "text/plain": [
       "0.25095158055575"
      ]
     },
     "execution_count": 34,
     "metadata": {},
     "output_type": "execute_result"
    }
   ],
   "source": [
    "answer_B"
   ]
  },
  {
   "cell_type": "markdown",
   "metadata": {},
   "source": [
    "### probability mass function of 100 fair coin flips"
   ]
  },
  {
   "cell_type": "code",
   "execution_count": 42,
   "metadata": {},
   "outputs": [],
   "source": [
    "n = 100\n",
    "p = 0.5\n",
    "x = range(n+1)\n",
    "from scipy.stats import binom\n",
    "Y = binom.pmf(x,n,p)"
   ]
  },
  {
   "cell_type": "code",
   "execution_count": 43,
   "metadata": {},
   "outputs": [
    {
     "data": {
      "text/plain": [
       "array([7.88860905e-31, 7.88860905e-29, 3.90486148e-27, 1.27558808e-25,\n",
       "       3.09330110e-24, 5.93913812e-23, 9.40363535e-22, 1.26277389e-20,\n",
       "       1.46797465e-19, 1.50059631e-18, 1.36554264e-17, 1.11726216e-16,\n",
       "       8.28636101e-16, 5.60922899e-15, 3.48573516e-14, 1.99848816e-13,\n",
       "       1.06169683e-12, 5.24603142e-12, 2.41900338e-11, 1.04399093e-10,\n",
       "       4.22816327e-10, 1.61072886e-09, 5.78398092e-09, 1.96152396e-08,\n",
       "       6.29322272e-08, 1.91313971e-07, 5.51867223e-07, 1.51252498e-06,\n",
       "       3.94336870e-06, 9.79043264e-06, 2.31706906e-05, 5.23209142e-05,\n",
       "       1.12816971e-04, 2.32471335e-04, 4.58105277e-04, 8.63855666e-04,\n",
       "       1.55973940e-03, 2.69792760e-03, 4.47287998e-03, 7.11073227e-03,\n",
       "       1.08438667e-02, 1.58690732e-02, 2.22922695e-02, 3.00686426e-02,\n",
       "       3.89525598e-02, 4.84742966e-02, 5.79583981e-02, 6.65905000e-02,\n",
       "       7.35270104e-02, 7.80286641e-02, 7.95892374e-02, 7.80286641e-02,\n",
       "       7.35270104e-02, 6.65905000e-02, 5.79583981e-02, 4.84742966e-02,\n",
       "       3.89525598e-02, 3.00686426e-02, 2.22922695e-02, 1.58690732e-02,\n",
       "       1.08438667e-02, 7.11073227e-03, 4.47287998e-03, 2.69792760e-03,\n",
       "       1.55973940e-03, 8.63855666e-04, 4.58105277e-04, 2.32471335e-04,\n",
       "       1.12816971e-04, 5.23209142e-05, 2.31706906e-05, 9.79043264e-06,\n",
       "       3.94336870e-06, 1.51252498e-06, 5.51867223e-07, 1.91313971e-07,\n",
       "       6.29322272e-08, 1.96152396e-08, 5.78398092e-09, 1.61072886e-09,\n",
       "       4.22816327e-10, 1.04399093e-10, 2.41900338e-11, 5.24603142e-12,\n",
       "       1.06169683e-12, 1.99848816e-13, 3.48573516e-14, 5.60922899e-15,\n",
       "       8.28636101e-16, 1.11726216e-16, 1.36554264e-17, 1.50059631e-18,\n",
       "       1.46797465e-19, 1.26277389e-20, 9.40363535e-22, 5.93913812e-23,\n",
       "       3.09330110e-24, 1.27558808e-25, 3.90486148e-27, 7.88860905e-29,\n",
       "       7.88860905e-31])"
      ]
     },
     "execution_count": 43,
     "metadata": {},
     "output_type": "execute_result"
    }
   ],
   "source": [
    "Y"
   ]
  },
  {
   "cell_type": "code",
   "execution_count": 44,
   "metadata": {},
   "outputs": [
    {
     "data": {
      "text/plain": [
       "[<matplotlib.lines.Line2D at 0x7f976526c9d0>]"
      ]
     },
     "execution_count": 44,
     "metadata": {},
     "output_type": "execute_result"
    },
    {
     "data": {
      "image/png": "[encoded data removed]",
      "text/plain": [
       "<Figure size 432x288 with 1 Axes>"
      ]
     },
     "metadata": {
      "needs_background": "light"
     },
     "output_type": "display_data"
    }
   ],
   "source": [
    "import matplotlib.pyplot as plt\n",
    "plt.plot(x,Y,'o')"
   ]
  },
  {
   "cell_type": "markdown",
   "metadata": {},
   "source": [
    "# biased coin"
   ]
  },
  {
   "cell_type": "code",
   "execution_count": 46,
   "metadata": {},
   "outputs": [
    {
     "data": {
      "text/plain": [
       "[<matplotlib.lines.Line2D at 0x7f97651e0af0>]"
      ]
     },
     "execution_count": 46,
     "metadata": {},
     "output_type": "execute_result"
    },
    {
     "data": {
      "image/png": "[encoded data removed]",
      "text/plain": [
       "<Figure size 432x288 with 1 Axes>"
      ]
     },
     "metadata": {
      "needs_background": "light"
     },
     "output_type": "display_data"
    }
   ],
   "source": [
    "n = 6\n",
    "p = 0.3\n",
    "x = range(n+1)\n",
    "from scipy.stats import binom\n",
    "Y = binom.pmf(x,n,p)\n",
    "plt.plot(x,Y,'o')"
   ]
  },
  {
   "cell_type": "markdown",
   "metadata": {},
   "source": [
    "# Memes da mega da virada:"
   ]
  },
  {
   "cell_type": "code",
   "execution_count": 38,
   "metadata": {},
   "outputs": [
    {
     "name": "stdout",
     "output_type": "stream",
     "text": [
      "new game:\n",
      "quatro\n",
      "tres\n",
      "tres\n",
      "tres\n",
      "tres\n",
      "tres\n",
      "[3, 5, 10, 20, 33, 36]\n",
      "----------------------------------------------------------------------------------------------------\n",
      "new game:\n",
      "dois\n",
      "quatro\n",
      "tres\n",
      "tres\n",
      "tres\n",
      "tres\n",
      "[3, 5, 10, 33, 36, 37]\n",
      "----------------------------------------------------------------------------------------------------\n",
      "new game:\n",
      "quatro\n",
      "tres\n",
      "tres\n",
      "tres\n",
      "tres\n",
      "tres\n",
      "[3, 5, 10, 20, 33, 36]\n",
      "----------------------------------------------------------------------------------------------------\n",
      "new game:\n",
      "quatro\n",
      "tres\n",
      "tres\n",
      "tres\n",
      "tres\n",
      "tres\n",
      "[3, 5, 10, 20, 33, 36]\n",
      "----------------------------------------------------------------------------------------------------\n",
      "new game:\n",
      "dois\n",
      "um\n",
      "quatro\n",
      "tres\n",
      "tres\n",
      "tres\n",
      "[3, 5, 10, 15, 20, 37]\n",
      "----------------------------------------------------------------------------------------------------\n",
      "new game:\n",
      "quatro\n",
      "tres\n",
      "tres\n",
      "tres\n",
      "tres\n",
      "tres\n",
      "[3, 5, 10, 20, 33, 36]\n",
      "----------------------------------------------------------------------------------------------------\n",
      "new game:\n",
      "tres\n",
      "zero\n",
      "dois\n",
      "zero\n",
      "tres\n",
      "tres\n",
      "[3, 20, 26, 33, 40, 60]\n",
      "----------------------------------------------------------------------------------------------------\n",
      "new game:\n",
      "quatro\n",
      "tres\n",
      "tres\n",
      "tres\n",
      "tres\n",
      "tres\n",
      "[3, 5, 10, 20, 33, 36]\n",
      "----------------------------------------------------------------------------------------------------\n",
      "new game:\n",
      "quatro\n",
      "tres\n",
      "tres\n",
      "tres\n",
      "tres\n",
      "tres\n",
      "[3, 5, 10, 20, 33, 36]\n",
      "----------------------------------------------------------------------------------------------------\n"
     ]
    }
   ],
   "source": [
    "def choose(x):\n",
    "    if x > 0.80 and len(quatro)>0:\n",
    "        print(\"quatro\")\n",
    "        chosen = random.choice(quatro)\n",
    "        quatro.remove(chosen)\n",
    "    elif x > .65 or len(quatro) == 0:\n",
    "        print(\"tres\")\n",
    "        chosen = random.choice(tres)\n",
    "        tres.remove(chosen)\n",
    "    elif x > .55:\n",
    "        print(\"dois\")\n",
    "        chosen = random.choice(dois)\n",
    "        dois.remove(chosen)\n",
    "    elif x > .25:\n",
    "        print(\"um\")\n",
    "        chosen = random.choice(um)\n",
    "        um.remove(chosen)\n",
    "    else:\n",
    "        print(\"zero\")\n",
    "        chosen = random.choice(zero)\n",
    "        zero.remove(chosen)\n",
    "    return chosen\n",
    "\n",
    "for _ in range(9):\n",
    "    game = []\n",
    "    print(\"new game:\")\n",
    "    quatro = [10]\n",
    "    tres = [3, 5, 20, 33, 36]\n",
    "    dois = [2, 11, 12, 17, 18, 22, 32, 34, 35, 37, 38, 40, 41, 42, 46, 51, 53, 56, 58]\n",
    "    um = [1, 4, 6, 14, 15, 16, 23, 24, 25, 27, 29, 30, 31, 43, 45, 47, 49, 50, 52, 55, 57]\n",
    "    zero = [7, 8, 9, 13, 19, 21, 26, 28, 39, 44, 48, 54, 59, 60]\n",
    "    for _ in range(6):\n",
    "        \n",
    "        game.append(choose(random.choice([random.random() for _ in range(20)])))\n",
    "    print(sorted(game))\n",
    "    print(\"-\"*100)"
   ]
  },
  {
   "cell_type": "code",
   "execution_count": 42,
   "metadata": {},
   "outputs": [
    {
     "ename": "IndexError",
     "evalue": "Cannot choose from an empty sequence",
     "output_type": "error",
     "traceback": [
      "\u001b[0;31m---------------------------------------------------------------------------\u001b[0m",
      "\u001b[0;31mIndexError\u001b[0m                                Traceback (most recent call last)",
      "\u001b[0;32m/tmp/ipykernel_9615/2575208398.py\u001b[0m in \u001b[0;36m<module>\u001b[0;34m\u001b[0m\n\u001b[0;32m----> 1\u001b[0;31m \u001b[0msorted\u001b[0m\u001b[0;34m(\u001b[0m\u001b[0;34m[\u001b[0m\u001b[0mrandom\u001b[0m\u001b[0;34m.\u001b[0m\u001b[0mchoice\u001b[0m\u001b[0;34m(\u001b[0m\u001b[0mtres\u001b[0m\u001b[0;34m)\u001b[0m\u001b[0;34m,\u001b[0m\u001b[0mrandom\u001b[0m\u001b[0;34m.\u001b[0m\u001b[0mchoice\u001b[0m\u001b[0;34m(\u001b[0m\u001b[0mtres\u001b[0m\u001b[0;34m)\u001b[0m\u001b[0;34m,\u001b[0m\u001b[0mrandom\u001b[0m\u001b[0;34m.\u001b[0m\u001b[0mchoice\u001b[0m\u001b[0;34m(\u001b[0m\u001b[0mdois\u001b[0m\u001b[0;34m)\u001b[0m\u001b[0;34m,\u001b[0m\u001b[0mrandom\u001b[0m\u001b[0;34m.\u001b[0m\u001b[0mchoice\u001b[0m\u001b[0;34m(\u001b[0m\u001b[0mum\u001b[0m\u001b[0;34m)\u001b[0m\u001b[0;34m,\u001b[0m\u001b[0mrandom\u001b[0m\u001b[0;34m.\u001b[0m\u001b[0mchoice\u001b[0m\u001b[0;34m(\u001b[0m\u001b[0mzero\u001b[0m\u001b[0;34m)\u001b[0m\u001b[0;34m,\u001b[0m\u001b[0mrandom\u001b[0m\u001b[0;34m.\u001b[0m\u001b[0mchoice\u001b[0m\u001b[0;34m(\u001b[0m\u001b[0mquatro\u001b[0m\u001b[0;34m+\u001b[0m\u001b[0mtres\u001b[0m\u001b[0;34m+\u001b[0m\u001b[0mdois\u001b[0m\u001b[0;34m+\u001b[0m\u001b[0mum\u001b[0m\u001b[0;34m+\u001b[0m\u001b[0mzero\u001b[0m\u001b[0;34m)\u001b[0m\u001b[0;34m]\u001b[0m\u001b[0;34m)\u001b[0m\u001b[0;34m\u001b[0m\u001b[0;34m\u001b[0m\u001b[0m\n\u001b[0m\u001b[1;32m      2\u001b[0m \u001b[0;34m\u001b[0m\u001b[0m\n",
      "\u001b[0;32m/usr/lib/python3.8/random.py\u001b[0m in \u001b[0;36mchoice\u001b[0;34m(self, seq)\u001b[0m\n\u001b[1;32m    288\u001b[0m             \u001b[0mi\u001b[0m \u001b[0;34m=\u001b[0m \u001b[0mself\u001b[0m\u001b[0;34m.\u001b[0m\u001b[0m_randbelow\u001b[0m\u001b[0;34m(\u001b[0m\u001b[0mlen\u001b[0m\u001b[0;34m(\u001b[0m\u001b[0mseq\u001b[0m\u001b[0;34m)\u001b[0m\u001b[0;34m)\u001b[0m\u001b[0;34m\u001b[0m\u001b[0;34m\u001b[0m\u001b[0m\n\u001b[1;32m    289\u001b[0m         \u001b[0;32mexcept\u001b[0m \u001b[0mValueError\u001b[0m\u001b[0;34m:\u001b[0m\u001b[0;34m\u001b[0m\u001b[0;34m\u001b[0m\u001b[0m\n\u001b[0;32m--> 290\u001b[0;31m             \u001b[0;32mraise\u001b[0m \u001b[0mIndexError\u001b[0m\u001b[0;34m(\u001b[0m\u001b[0;34m'Cannot choose from an empty sequence'\u001b[0m\u001b[0;34m)\u001b[0m \u001b[0;32mfrom\u001b[0m \u001b[0;32mNone\u001b[0m\u001b[0;34m\u001b[0m\u001b[0;34m\u001b[0m\u001b[0m\n\u001b[0m\u001b[1;32m    291\u001b[0m         \u001b[0;32mreturn\u001b[0m \u001b[0mseq\u001b[0m\u001b[0;34m[\u001b[0m\u001b[0mi\u001b[0m\u001b[0;34m]\u001b[0m\u001b[0;34m\u001b[0m\u001b[0;34m\u001b[0m\u001b[0m\n\u001b[1;32m    292\u001b[0m \u001b[0;34m\u001b[0m\u001b[0m\n",
      "\u001b[0;31mIndexError\u001b[0m: Cannot choose from an empty sequence"
     ]
    }
   ],
   "source": [
    "sorted([random.choice(tres),random.choice(tres),random.choice(dois),random.choice(um),random.choice(zero),random.choice(quatro+tres+dois+um+zero)])\n",
    "\n"
   ]
  },
  {
   "cell_type": "markdown",
   "metadata": {},
   "source": [
    "# Poisson distribution"
   ]
  },
  {
   "cell_type": "markdown",
   "metadata": {},
   "source": [
    "this distribution focuses on the number of discrete events or outcomes over a specified interval.\n",
    "Ex:\n",
    "macdonalds has in average 10 costumers during lunch rush 12:30pm to 1:00pm\n",
    "What is the probability that exactly 7 costumers will show up?\n",
    "\n",
    "(lambda^k)*e^(-lambda)/k!"
   ]
  },
  {
   "cell_type": "code",
   "execution_count": 46,
   "metadata": {},
   "outputs": [],
   "source": [
    "import math\n",
    "lamb = 10 # lambda = the mean\n",
    "k = 7\n",
    "\n",
    "prob = (lamb**k)*math.exp(-lamb)/math.factorial(k)"
   ]
  },
  {
   "cell_type": "code",
   "execution_count": 48,
   "metadata": {},
   "outputs": [
    {
     "data": {
      "text/plain": [
       "9.007922571921599"
      ]
     },
     "execution_count": 48,
     "metadata": {},
     "output_type": "execute_result"
    }
   ],
   "source": [
    "prob*100"
   ]
  },
  {
   "cell_type": "code",
   "execution_count": 49,
   "metadata": {},
   "outputs": [],
   "source": [
    "from scipy.stats import poisson"
   ]
  },
  {
   "cell_type": "code",
   "execution_count": 50,
   "metadata": {},
   "outputs": [
    {
     "data": {
      "text/plain": [
       "0.090079225719216"
      ]
     },
     "execution_count": 50,
     "metadata": {},
     "output_type": "execute_result"
    }
   ],
   "source": [
    "poisson.pmf(k,lamb) # pmf is the probability mass function"
   ]
  },
  {
   "cell_type": "code",
   "execution_count": 54,
   "metadata": {},
   "outputs": [],
   "source": [
    "import numpy as np\n",
    "import matplotlib.pyplot as plt"
   ]
  },
  {
   "cell_type": "code",
   "execution_count": 55,
   "metadata": {},
   "outputs": [],
   "source": [
    "k = np.arange(0,30)\n"
   ]
  },
  {
   "cell_type": "code",
   "execution_count": 60,
   "metadata": {},
   "outputs": [
    {
     "data": {
      "text/plain": [
       "<BarContainer object of 30 artists>"
      ]
     },
     "execution_count": 60,
     "metadata": {},
     "output_type": "execute_result"
    },
    {
     "data": {
      "image/png": "[encoded data removed]",
      "text/plain": [
       "<Figure size 432x288 with 1 Axes>"
      ]
     },
     "metadata": {
      "needs_background": "light"
     },
     "output_type": "display_data"
    }
   ],
   "source": [
    "plt.bar(np.arange(0,30),poisson.pmf(k,lamb))"
   ]
  },
  {
   "cell_type": "code",
   "execution_count": 62,
   "metadata": {},
   "outputs": [
    {
     "data": {
      "text/plain": [
       "0.5830397501929852"
      ]
     },
     "execution_count": 62,
     "metadata": {},
     "output_type": "execute_result"
    }
   ],
   "source": [
    "poisson.cdf(10,10) # cdf is cummulative distribution function, calculates the cummulative area under the pmf curve form 0 to k\n",
    "# if we want past k we can do 1-k"
   ]
  },
  {
   "cell_type": "code",
   "execution_count": 63,
   "metadata": {},
   "outputs": [
    {
     "data": {
      "text/plain": [
       "0.41696024980701485"
      ]
     },
     "execution_count": 63,
     "metadata": {},
     "output_type": "execute_result"
    }
   ],
   "source": [
    "1 - poisson.cdf(10,10)"
   ]
  },
  {
   "cell_type": "markdown",
   "metadata": {},
   "source": [
    "# Normal distribution:"
   ]
  },
  {
   "cell_type": "code",
   "execution_count": 1,
   "metadata": {},
   "outputs": [],
   "source": [
    "import numpy as np\n",
    "import matplotlib.pyplot as plt\n",
    "from scipy import stats\n"
   ]
  },
  {
   "cell_type": "code",
   "execution_count": 2,
   "metadata": {},
   "outputs": [],
   "source": [
    "mean = 0\n",
    "std = 1"
   ]
  },
  {
   "cell_type": "code",
   "execution_count": 3,
   "metadata": {},
   "outputs": [],
   "source": [
    "X = np.linspace(-10,10,10000)"
   ]
  },
  {
   "cell_type": "code",
   "execution_count": 4,
   "metadata": {},
   "outputs": [],
   "source": [
    "y = stats.norm.pdf(X,mean,std)"
   ]
  },
  {
   "cell_type": "code",
   "execution_count": 5,
   "metadata": {},
   "outputs": [
    {
     "data": {
      "text/plain": [
       "[<matplotlib.lines.Line2D at 0x7f34d6807a30>]"
      ]
     },
     "execution_count": 5,
     "metadata": {},
     "output_type": "execute_result"
    },
    {
     "data": {
      "image/png": "[encoded data removed]",
      "text/plain": [
       "<Figure size 432x288 with 1 Axes>"
      ]
     },
     "metadata": {
      "needs_background": "light"
     },
     "output_type": "display_data"
    }
   ],
   "source": [
    "plt.plot(X,y)"
   ]
  },
  {
   "cell_type": "markdown",
   "metadata": {},
   "source": [
    "## using numpy.random:"
   ]
  },
  {
   "cell_type": "code",
   "execution_count": 6,
   "metadata": {},
   "outputs": [],
   "source": [
    "mu, sigma = 0, 0.1\n",
    "\n",
    "normal_set = np.random.normal(mu,sigma,1000)"
   ]
  },
  {
   "cell_type": "code",
   "execution_count": 9,
   "metadata": {},
   "outputs": [
    {
     "data": {
      "text/plain": [
       "(array([ 2.,  0.,  1.,  0.,  0.,  3.,  3.,  3.,  6.,  6.,  3.,  6.,  8.,\n",
       "        19., 13., 22., 14., 26., 20., 32., 41., 32., 36., 45., 47., 37.,\n",
       "        39., 44., 51., 41., 42., 51., 41., 35., 35., 31., 21., 24., 26.,\n",
       "        20., 11.,  9., 11., 10., 10.,  5., 12.,  2.,  3.,  1.]),\n",
       " array([-0.31884816, -0.30721901, -0.29558987, -0.28396072, -0.27233157,\n",
       "        -0.26070242, -0.24907327, -0.23744412, -0.22581497, -0.21418582,\n",
       "        -0.20255667, -0.19092752, -0.17929837, -0.16766922, -0.15604007,\n",
       "        -0.14441093, -0.13278178, -0.12115263, -0.10952348, -0.09789433,\n",
       "        -0.08626518, -0.07463603, -0.06300688, -0.05137773, -0.03974858,\n",
       "        -0.02811943, -0.01649028, -0.00486113,  0.00676802,  0.01839716,\n",
       "         0.03002631,  0.04165546,  0.05328461,  0.06491376,  0.07654291,\n",
       "         0.08817206,  0.09980121,  0.11143036,  0.12305951,  0.13468866,\n",
       "         0.14631781,  0.15794696,  0.1695761 ,  0.18120525,  0.1928344 ,\n",
       "         0.20446355,  0.2160927 ,  0.22772185,  0.239351  ,  0.25098015,\n",
       "         0.2626093 ]),\n",
       " <BarContainer object of 50 artists>)"
      ]
     },
     "execution_count": 9,
     "metadata": {},
     "output_type": "execute_result"
    },
    {
     "data": {
      "image/png": "[encoded data removed]",
      "text/plain": [
       "<Figure size 432x288 with 1 Axes>"
      ]
     },
     "metadata": {
      "needs_background": "light"
     },
     "output_type": "display_data"
    }
   ],
   "source": [
    "plt.hist(normal_set,bins=50)"
   ]
  },
  {
   "cell_type": "markdown",
   "metadata": {},
   "source": [
    "# T distribution"
   ]
  },
  {
   "cell_type": "markdown",
   "metadata": {},
   "source": [
    "should be used for small populations"
   ]
  },
  {
   "cell_type": "code",
   "execution_count": 10,
   "metadata": {},
   "outputs": [],
   "source": [
    "import matplotlib.pyplot as plt\n",
    "\n",
    "import numpy as np\n",
    "from scipy.stats import t"
   ]
  },
  {
   "cell_type": "code",
   "execution_count": 11,
   "metadata": {},
   "outputs": [],
   "source": [
    "x = np.linspace(-5,5,100)"
   ]
  },
  {
   "cell_type": "code",
   "execution_count": 24,
   "metadata": {},
   "outputs": [],
   "source": [
    "rv = t(3)"
   ]
  },
  {
   "cell_type": "code",
   "execution_count": 25,
   "metadata": {},
   "outputs": [
    {
     "data": {
      "text/plain": [
       "[<matplotlib.lines.Line2D at 0x7f34d3d3a670>]"
      ]
     },
     "execution_count": 25,
     "metadata": {},
     "output_type": "execute_result"
    },
    {
     "data": {
      "image/png": "[encoded data removed]",
      "text/plain": [
       "<Figure size 432x288 with 1 Axes>"
      ]
     },
     "metadata": {
      "needs_background": "light"
     },
     "output_type": "display_data"
    }
   ],
   "source": [
    "plt.plot(x,rv.pdf(x))"
   ]
  },
  {
   "cell_type": "markdown",
   "metadata": {},
   "source": [
    "# Hypothesis testing:"
   ]
  },
  {
   "cell_type": "code",
   "execution_count": 27,
   "metadata": {},
   "outputs": [],
   "source": [
    "import numpy as np\n",
    "import matplotlib.pyplot as plt\n",
    "from scipy import stats\n",
    "import math\n"
   ]
  },
  {
   "cell_type": "markdown",
   "metadata": {},
   "source": [
    "calculando o z score"
   ]
  },
  {
   "cell_type": "code",
   "execution_count": 29,
   "metadata": {},
   "outputs": [
    {
     "data": {
      "text/plain": [
       "-2.121320343559643"
      ]
     },
     "execution_count": 29,
     "metadata": {},
     "output_type": "execute_result"
    }
   ],
   "source": [
    "(27-30)/(math.sqrt(20)/math.sqrt(10))"
   ]
  },
  {
   "cell_type": "markdown",
   "metadata": {},
   "source": [
    "olhando no grafico -2.12 fica apos a margens de 95% então rejeitaremos a hipotese nula"
   ]
  },
  {
   "cell_type": "code",
   "execution_count": null,
   "metadata": {},
   "outputs": [],
   "source": []
  }
 ],
 "metadata": {
  "kernelspec": {
   "display_name": "Python 3.8.10 64-bit",
   "language": "python",
   "name": "python3"
  },
  "language_info": {
   "codemirror_mode": {
    "name": "ipython",
    "version": 3
   },
   "file_extension": ".py",
   "mimetype": "text/x-python",
   "name": "python",
   "nbconvert_exporter": "python",
   "pygments_lexer": "ipython3",
   "version": "3.8.10"
  },
  "orig_nbformat": 4,
  "vscode": {
   "interpreter": {
    "hash": "31f2aee4e71d21fbe5cf8b01ff0e069b9275f58929596ceb00d14d90e3e16cd6"
   }
  }
 },
 "nbformat": 4,
 "nbformat_minor": 2
}
