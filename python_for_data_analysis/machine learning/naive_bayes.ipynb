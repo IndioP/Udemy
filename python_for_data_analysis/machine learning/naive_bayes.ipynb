{
 "cells": [
  {
   "cell_type": "code",
   "execution_count": 14,
   "metadata": {},
   "outputs": [],
   "source": [
    "import pandas as pd"
   ]
  },
  {
   "cell_type": "code",
   "execution_count": 15,
   "metadata": {},
   "outputs": [],
   "source": [
    "df = pd.read_csv(\"naive bayes.csv\")"
   ]
  },
  {
   "cell_type": "code",
   "execution_count": 16,
   "metadata": {},
   "outputs": [
    {
     "data": {
      "text/html": [
       "<div>\n",
       "<style scoped>\n",
       "    .dataframe tbody tr th:only-of-type {\n",
       "        vertical-align: middle;\n",
       "    }\n",
       "\n",
       "    .dataframe tbody tr th {\n",
       "        vertical-align: top;\n",
       "    }\n",
       "\n",
       "    .dataframe thead th {\n",
       "        text-align: right;\n",
       "    }\n",
       "</style>\n",
       "<table border=\"1\" class=\"dataframe\">\n",
       "  <thead>\n",
       "    <tr style=\"text-align: right;\">\n",
       "      <th></th>\n",
       "      <th>Dia</th>\n",
       "      <th>Tempo</th>\n",
       "      <th>Temperatura</th>\n",
       "      <th>Humidade</th>\n",
       "      <th>Vento</th>\n",
       "      <th>Jogar</th>\n",
       "    </tr>\n",
       "  </thead>\n",
       "  <tbody>\n",
       "    <tr>\n",
       "      <th>0</th>\n",
       "      <td>1</td>\n",
       "      <td>Sol</td>\n",
       "      <td>Quente</td>\n",
       "      <td>Alta</td>\n",
       "      <td>Fraco</td>\n",
       "      <td>Não</td>\n",
       "    </tr>\n",
       "    <tr>\n",
       "      <th>1</th>\n",
       "      <td>2</td>\n",
       "      <td>Sol</td>\n",
       "      <td>Quente</td>\n",
       "      <td>Alta</td>\n",
       "      <td>Forte</td>\n",
       "      <td>Não</td>\n",
       "    </tr>\n",
       "    <tr>\n",
       "      <th>2</th>\n",
       "      <td>3</td>\n",
       "      <td>Coberto</td>\n",
       "      <td>Quente</td>\n",
       "      <td>Alta</td>\n",
       "      <td>Fraco</td>\n",
       "      <td>Sim</td>\n",
       "    </tr>\n",
       "    <tr>\n",
       "      <th>3</th>\n",
       "      <td>4</td>\n",
       "      <td>Chuva</td>\n",
       "      <td>Normal</td>\n",
       "      <td>Alta</td>\n",
       "      <td>Fraco</td>\n",
       "      <td>Sim</td>\n",
       "    </tr>\n",
       "    <tr>\n",
       "      <th>4</th>\n",
       "      <td>5</td>\n",
       "      <td>Chuva</td>\n",
       "      <td>Frio</td>\n",
       "      <td>Normal</td>\n",
       "      <td>Fraco</td>\n",
       "      <td>Não</td>\n",
       "    </tr>\n",
       "    <tr>\n",
       "      <th>5</th>\n",
       "      <td>6</td>\n",
       "      <td>Chuva</td>\n",
       "      <td>Frio</td>\n",
       "      <td>Normal</td>\n",
       "      <td>Forte</td>\n",
       "      <td>Não</td>\n",
       "    </tr>\n",
       "    <tr>\n",
       "      <th>6</th>\n",
       "      <td>7</td>\n",
       "      <td>Coberto</td>\n",
       "      <td>Frio</td>\n",
       "      <td>Normal</td>\n",
       "      <td>Forte</td>\n",
       "      <td>Sim</td>\n",
       "    </tr>\n",
       "    <tr>\n",
       "      <th>7</th>\n",
       "      <td>8</td>\n",
       "      <td>Sol</td>\n",
       "      <td>Normal</td>\n",
       "      <td>Alta</td>\n",
       "      <td>Fraco</td>\n",
       "      <td>Não</td>\n",
       "    </tr>\n",
       "    <tr>\n",
       "      <th>8</th>\n",
       "      <td>9</td>\n",
       "      <td>Sol</td>\n",
       "      <td>Frio</td>\n",
       "      <td>Normal</td>\n",
       "      <td>Fraco</td>\n",
       "      <td>Sim</td>\n",
       "    </tr>\n",
       "    <tr>\n",
       "      <th>9</th>\n",
       "      <td>10</td>\n",
       "      <td>Chuva</td>\n",
       "      <td>Normal</td>\n",
       "      <td>Normal</td>\n",
       "      <td>Fraco</td>\n",
       "      <td>Sim</td>\n",
       "    </tr>\n",
       "  </tbody>\n",
       "</table>\n",
       "</div>"
      ],
      "text/plain": [
       "   Dia    Tempo Temperatura Humidade  Vento Jogar\n",
       "0    1      Sol      Quente     Alta  Fraco   Não\n",
       "1    2      Sol      Quente     Alta  Forte   Não\n",
       "2    3  Coberto      Quente     Alta  Fraco   Sim\n",
       "3    4    Chuva      Normal     Alta  Fraco   Sim\n",
       "4    5    Chuva        Frio   Normal  Fraco   Não\n",
       "5    6    Chuva        Frio   Normal  Forte   Não\n",
       "6    7  Coberto        Frio   Normal  Forte   Sim\n",
       "7    8      Sol      Normal     Alta  Fraco   Não\n",
       "8    9      Sol        Frio   Normal  Fraco   Sim\n",
       "9   10    Chuva      Normal   Normal  Fraco   Sim"
      ]
     },
     "execution_count": 16,
     "metadata": {},
     "output_type": "execute_result"
    }
   ],
   "source": [
    "df"
   ]
  },
  {
   "cell_type": "code",
   "execution_count": 17,
   "metadata": {},
   "outputs": [],
   "source": [
    "df = df.set_index('Dia')"
   ]
  },
  {
   "cell_type": "code",
   "execution_count": 18,
   "metadata": {},
   "outputs": [],
   "source": [
    "x = df['Jogar'].value_counts()"
   ]
  },
  {
   "cell_type": "code",
   "execution_count": 19,
   "metadata": {},
   "outputs": [
    {
     "name": "stdout",
     "output_type": "stream",
     "text": [
      "Não  =  5/10\n",
      "Sim  =  5/10\n"
     ]
    }
   ],
   "source": [
    "f = lambda x: f\"{x}/{len(df)}\"\n",
    "P_ys = {}\n",
    "y_counts = df['Jogar'].value_counts()\n",
    "for value,num in y_counts.items():\n",
    "    print(value,' = ',f(num))\n",
    "    P_ys[value] = num/len(df)\n"
   ]
  },
  {
   "cell_type": "code",
   "execution_count": 26,
   "metadata": {},
   "outputs": [
    {
     "name": "stdout",
     "output_type": "stream",
     "text": [
      "Jogar    Não  Sim  All\n",
      "Tempo                 \n",
      "Chuva      2    2    4\n",
      "Coberto    0    2    2\n",
      "Sol        3    1    4\n",
      "All        5    5   10\n",
      "--------------------\n",
      "Jogar        Não  Sim  All\n",
      "Temperatura               \n",
      "Frio           2    2    4\n",
      "Normal         1    2    3\n",
      "Quente         2    1    3\n",
      "All            5    5   10\n",
      "--------------------\n",
      "Jogar     Não  Sim  All\n",
      "Humidade               \n",
      "Alta        3    2    5\n",
      "Normal      2    3    5\n",
      "All         5    5   10\n",
      "--------------------\n",
      "Jogar  Não  Sim  All\n",
      "Vento               \n",
      "Forte    2    1    3\n",
      "Fraco    3    4    7\n",
      "All      5    5   10\n",
      "--------------------\n"
     ]
    }
   ],
   "source": [
    "\n",
    "target = 'Jogar'\n",
    "for key in df.keys():\n",
    "    if key == target:\n",
    "        continue\n",
    "    print(pd.crosstab(df[key],df.Jogar,margins=True))\n",
    "    print('-'*20)"
   ]
  },
  {
   "cell_type": "code",
   "execution_count": 20,
   "metadata": {},
   "outputs": [
    {
     "name": "stdout",
     "output_type": "stream",
     "text": [
      "Tempo    Jogar\n",
      "Chuva    Não      0.428571\n",
      "         Sim      0.428571\n",
      "Coberto  Sim      0.428571\n",
      "Sol      Não      0.571429\n",
      "         Sim      0.285714\n",
      "dtype: float64\n",
      "--------------------------------------------------\n",
      "Temperatura  Jogar\n",
      "Frio         Não      0.428571\n",
      "             Sim      0.428571\n",
      "Normal       Não      0.285714\n",
      "             Sim      0.428571\n",
      "Quente       Não      0.428571\n",
      "             Sim      0.285714\n",
      "dtype: float64\n",
      "--------------------------------------------------\n",
      "Humidade  Jogar\n",
      "Alta      Não      0.571429\n",
      "          Sim      0.428571\n",
      "Normal    Não      0.428571\n",
      "          Sim      0.571429\n",
      "dtype: float64\n",
      "--------------------------------------------------\n",
      "Vento  Jogar\n",
      "Forte  Não      0.428571\n",
      "       Sim      0.285714\n",
      "Fraco  Não      0.571429\n",
      "       Sim      0.714286\n",
      "dtype: float64\n",
      "--------------------------------------------------\n"
     ]
    }
   ],
   "source": [
    "\n",
    "target = 'Jogar'\n",
    "\n",
    "P_x_y = pd.Series(dtype='float64')\n",
    "\n",
    "\n",
    "for key in df.keys():\n",
    "    if key == target:\n",
    "        continue\n",
    "    \n",
    "    df_aux = df[[key,'Jogar']].groupby([key,'Jogar']).value_counts()\n",
    "    P_xs = []\n",
    "    for (key,jogar),value in df_aux.items():\n",
    "        P_xs.append((value+1)/(y_counts[jogar]+2)) # esse +1 e +2 é o laplace smoothing conhecimento proibidissimo\n",
    "\n",
    "\n",
    "    df_aux = pd.Series(P_xs,index=df_aux.index)\n",
    "    P_x_y = pd.concat([P_x_y,df_aux])\n",
    "    print(df_aux)\n",
    "    \n",
    "    print(\"-\"*50)"
   ]
  },
  {
   "cell_type": "code",
   "execution_count": 60,
   "metadata": {},
   "outputs": [
    {
     "data": {
      "text/plain": [
       "0.002498958767180341"
      ]
     },
     "execution_count": 60,
     "metadata": {},
     "output_type": "execute_result"
    }
   ],
   "source": [
    "# Calculando se for ter Jogo:\n",
    "Tempo = P_x_y[('Chuva','Sim')]\n",
    "Temperatura = P_x_y[('Quente','Sim')]\n",
    "try:\n",
    "    Humidade = P_x_y[('Baixa','Sim')]\n",
    "except:\n",
    "    Humidade = 1/(y_counts[\"Sim\"]+2)# esse +1 e +2 é o laplace smoothing conhecimento proibido \n",
    "Vento = P_x_y[('Forte','Sim')]\n",
    "\n",
    "Tempo*Temperatura*Humidade*Vento*P_ys['Sim']\n"
   ]
  },
  {
   "cell_type": "code",
   "execution_count": 61,
   "metadata": {},
   "outputs": [
    {
     "data": {
      "text/plain": [
       "0.005622657226155767"
      ]
     },
     "execution_count": 61,
     "metadata": {},
     "output_type": "execute_result"
    }
   ],
   "source": [
    "# Calculando se for ter Jogo:\n",
    "Tempo = P_x_y[('Chuva','Não')]\n",
    "Temperatura = P_x_y[('Quente','Não')]\n",
    "try:\n",
    "    Humidade = P_x_y[('Baixa','Não')]\n",
    "except:\n",
    "    Humidade = 1/(y_counts['Não']+2) # esse +1 e +2 é o laplace smoothing conhecimento proibido \n",
    "Vento = P_x_y[('Forte','Não')]\n",
    "\n",
    "Tempo*Temperatura*Humidade*Vento*P_ys['Não']"
   ]
  },
  {
   "cell_type": "code",
   "execution_count": null,
   "metadata": {},
   "outputs": [],
   "source": []
  }
 ],
 "metadata": {
  "kernelspec": {
   "display_name": "Python 3.8.10 64-bit",
   "language": "python",
   "name": "python3"
  },
  "language_info": {
   "codemirror_mode": {
    "name": "ipython",
    "version": 3
   },
   "file_extension": ".py",
   "mimetype": "text/x-python",
   "name": "python",
   "nbconvert_exporter": "python",
   "pygments_lexer": "ipython3",
   "version": "3.8.10"
  },
  "orig_nbformat": 4,
  "vscode": {
   "interpreter": {
    "hash": "31f2aee4e71d21fbe5cf8b01ff0e069b9275f58929596ceb00d14d90e3e16cd6"
   }
  }
 },
 "nbformat": 4,
 "nbformat_minor": 2
}
